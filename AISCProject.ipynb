{
 "cells": [
  {
   "cell_type": "code",
   "execution_count": 5,
   "id": "8fab1335",
   "metadata": {
    "scrolled": true
   },
   "outputs": [],
   "source": [
    "import pandas as pd\n",
    "\n",
    "with open(r'C:\\Users\\RR\\Downloads\\bank\\bank-full.csv', 'r') as f:\n",
    "    lines = f.readlines()\n",
    "    data = [line.strip().split(';') for line in lines]\n",
    "\n",
    "df = pd.DataFrame(data[1:], columns=data[0]).applymap(lambda x: x.replace('\"', '') if isinstance(x, str) else x)\n",
    "\n",
    "df.columns = [col.strip('\"') for col in df.columns]\n",
    "\n",
    "#####exploratory data analysis\n",
    "#consider checking value types for each variable, and convert those that should be numeric to numeric\n",
    "#check distributions of numerical variables - will inform whether we need to transform\n",
    "#check countplot of categorical variables - would inform whether we need to downsize (might make model skewed)\n",
    "#heatmap for numerical variables to show correlations\n",
    "#chi_2 contingency using carmer's v heatmap for categorical variables to show correlations"
   ]
  },
  {
   "cell_type": "code",
   "execution_count": null,
   "id": "9021e3d3",
   "metadata": {},
   "outputs": [],
   "source": []
  },
  {
   "cell_type": "code",
   "execution_count": null,
   "id": "a3f7d769",
   "metadata": {},
   "outputs": [],
   "source": []
  }
 ],
 "metadata": {
  "kernelspec": {
   "display_name": "Python 3 (ipykernel)",
   "language": "python",
   "name": "python3"
  },
  "language_info": {
   "codemirror_mode": {
    "name": "ipython",
    "version": 3
   },
   "file_extension": ".py",
   "mimetype": "text/x-python",
   "name": "python",
   "nbconvert_exporter": "python",
   "pygments_lexer": "ipython3",
   "version": "3.11.5"
  }
 },
 "nbformat": 4,
 "nbformat_minor": 5
}
